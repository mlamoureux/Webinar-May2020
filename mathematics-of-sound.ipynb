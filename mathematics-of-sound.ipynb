{
 "cells": [
  {
   "cell_type": "markdown",
   "metadata": {
    "slideshow": {
     "slide_type": "skip"
    }
   },
   "source": [
    "## To use this slideshow:\n",
    "- Run All, using the menu item: Kernel/Restart & Run All\n",
    "- Return to this top cell\n",
    "- click on \"Slideshow\" menu item above, that looks like this:\n",
    "![](images/SlideIcon.png)"
   ]
  },
  {
   "cell_type": "markdown",
   "metadata": {
    "slideshow": {
     "slide_type": "skip"
    }
   },
   "source": [
    "![](https://github.com/callysto/callysto-sample-notebooks/blob/master/notebooks/images/Callysto_Notebook-Banner_Top_06.06.18.jpg?raw=true)\n"
   ]
  },
  {
   "cell_type": "markdown",
   "metadata": {
    "slideshow": {
     "slide_type": "slide"
    }
   },
   "source": [
    "![](images/callysto.png)\n",
    "![](images/titlepage.jpg)\n",
    "### May 7, 2020 with Michael Lamoureux "
   ]
  },
  {
   "cell_type": "code",
   "execution_count": null,
   "metadata": {
    "slideshow": {
     "slide_type": "skip"
    }
   },
   "outputs": [],
   "source": [
    "%matplotlib inline\n",
    "from matplotlib.pyplot import *\n",
    "from numpy import *  ## for numerical functions\n",
    "from IPython.display import Audio, display  ## to output audio"
   ]
  },
  {
   "cell_type": "markdown",
   "metadata": {
    "slideshow": {
     "slide_type": "slide"
    }
   },
   "source": [
    "## Overview\n",
    "- What is sound?\n",
    "- How our ear works\n",
    "- Examples of physical sound generation\n",
    "- How to make your own sounds on the computer"
   ]
  },
  {
   "cell_type": "markdown",
   "metadata": {
    "slideshow": {
     "slide_type": "slide"
    }
   },
   "source": [
    "# What is sound?\n",
    "\n",
    "![](images/Sound2Ear.png)\n",
    "\n",
    "Rapid changes, or **vibrations** in air pressure are heard in our ears as sound. \n",
    "\n"
   ]
  },
  {
   "cell_type": "markdown",
   "metadata": {
    "slideshow": {
     "slide_type": "slide"
    }
   },
   "source": [
    "The air carries the vibrations. Water works too -- so do the bones in your head. \n"
   ]
  },
  {
   "cell_type": "code",
   "execution_count": null,
   "metadata": {
    "slideshow": {
     "slide_type": "slide"
    }
   },
   "outputs": [],
   "source": [
    "%%html\n",
    "<iframe width=\"560\" height=\"315\" src=\"https://www.youtube.com/embed/YxUERaXBAU8?start=47\" frameborder=\"0\" allow=\"accelerometer; autoplay; encrypted-media; gyroscope; picture-in-picture\" allowfullscreen></iframe>\n",
    "<h2> A bell in a vacuum chamber makes no sound. (Charles Taylor)"
   ]
  },
  {
   "cell_type": "code",
   "execution_count": null,
   "metadata": {
    "slideshow": {
     "slide_type": "slide"
    }
   },
   "outputs": [],
   "source": [
    "%%html\n",
    "<iframe width=\"560\" height=\"315\" src=\"https://www.youtube.com/embed/xUjrqFVBgc8?start=67\" frameborder=\"0\" allow=\"accelerometer; autoplay; encrypted-media; gyroscope; picture-in-picture\" allowfullscreen></iframe>\n",
    "<h2> In space, there should be no sound!"
   ]
  },
  {
   "cell_type": "markdown",
   "metadata": {
    "slideshow": {
     "slide_type": "slide"
    }
   },
   "source": [
    "## We use our ears to sense the vibrations - ear drum, middle ear, cochlea.\n",
    "![](images/Ear-Anatomy.png)"
   ]
  },
  {
   "cell_type": "code",
   "execution_count": null,
   "metadata": {
    "slideshow": {
     "slide_type": "skip"
    }
   },
   "outputs": [],
   "source": [
    "Fs, Len, f1 = 44100, 3, 440  ## sample rate, length in seconds, frequency\n",
    "random_sd = random.randn(Fs*Len)\n",
    "t = linspace(0,Len,Fs*Len)\n",
    "sine_sd = sin(2*pi*440*t)\n",
    "square_sd = minimum(.1, maximum(-.1,sine_sd))"
   ]
  },
  {
   "cell_type": "code",
   "execution_count": null,
   "metadata": {
    "slideshow": {
     "slide_type": "slide"
    }
   },
   "outputs": [],
   "source": [
    "## Let's hear some sounds!\n",
    "display(Audio(data=random_sd, rate=Fs)), display(\"Noise\")\n",
    "display(Audio(data=sine_sd, rate=Fs)), display(\"Pure tone\")\n",
    "display(Audio(data=square_sd, rate=Fs)), display(\"Rich tone\")\n",
    "display(Audio(data='sounds/KolnShort.wav')), display(\"Koln Concert - Jarrett\");"
   ]
  },
  {
   "cell_type": "markdown",
   "metadata": {
    "slideshow": {
     "slide_type": "slide"
    }
   },
   "source": [
    "## The ear is limited in what it can hear\n",
    "\n",
    "- the sound can't be too soft, can't be too loud\n",
    "    - measure of energy: 0 decibels to 120 decibels\n",
    "- the sound can't be too low in pitch, nor too high\n",
    "    - measure of frequency: 20 to 20,000 cycles per second\n",
    "\n",
    "## Main limitation is the basilar membrane and nerves in cochlea."
   ]
  },
  {
   "cell_type": "markdown",
   "metadata": {
    "slideshow": {
     "slide_type": "slide"
    }
   },
   "source": [
    "## The computer (and Zoom) is limited in what sounds it can produce\n",
    "\n",
    "- need a large, massive speaker to produce low pitches\n",
    "    - my computer only goes down to 40 cycles per seond\n",
    "- need lots of data per second to go to high frequencies\n",
    "    - my laptop can go up to 20,000 cycles per second\n",
    "    - Zoom is limited to about 8,000 cycles per second\n",
    "    - old computers typically go up to 4,000 cycles per second\n",
    "\n",
    "## Main limitation is cost: more expensive equipment gives better sound"
   ]
  },
  {
   "cell_type": "markdown",
   "metadata": {
    "slideshow": {
     "slide_type": "slide"
    }
   },
   "source": [
    "# Interesting challenge for this webinar\n",
    "\n",
    "- what we hear is limited by both our ears, and the technology\n",
    "- in a classroom, your technology can be better than your ears\n",
    "- in the classroom, fun to test who can hear what. \n",
    "    - younger kids can hear higher sounds than adults\n",
    "    - girls often can hear better than boys\n",
    "    - professional musicians often have exceptional hearing\n",
    "    - hunters, factory workers often have reduced hearing\n"
   ]
  },
  {
   "cell_type": "code",
   "execution_count": null,
   "metadata": {
    "slideshow": {
     "slide_type": "slide"
    }
   },
   "outputs": [],
   "source": [
    "## What can the computer produce?\n",
    "display(Audio(data=sin(2*pi*50*t), rate=Fs)), display(\"50 Hertz\")\n",
    "display(Audio(data=sin(2*pi*100*t), rate=Fs)), display(\"100 Hertz\")\n",
    "display(Audio(data=sin(2*pi*1000*t), rate=Fs)), display(\"1,000 Hertz\")\n",
    "display(Audio(data=sin(2*pi*8000*t), rate=Fs)), display(\"8,000 Hertz\");"
   ]
  },
  {
   "cell_type": "markdown",
   "metadata": {
    "slideshow": {
     "slide_type": "slide"
    }
   },
   "source": [
    "## What makes sounds? Something that vibrates.\n",
    "\n",
    "- the metal tines on a tuning fork\n",
    "- the strings on a guitar, violin, piano\n",
    "- the vibrating reed on a clarinet, saxophone, harmonica\n",
    "\n",
    "## The body of the instrument efficiently transfers vibrations to the air"
   ]
  },
  {
   "cell_type": "markdown",
   "metadata": {
    "slideshow": {
     "slide_type": "slide"
    }
   },
   "source": [
    "## A tuning fork - a U-shaped metal bar with handle\n",
    "![](images/TuningForkR.jpg)\n",
    "## The bar acts as a spring, with a mass on the ends"
   ]
  },
  {
   "cell_type": "markdown",
   "metadata": {
    "slideshow": {
     "slide_type": "slide"
    }
   },
   "source": [
    "## Newton's law\n",
    "#### <center> Force = mass x acceleration\n",
    "$$ -kY = m \\frac{d^2 Y}{dt^2} $$\n",
    "where $Y$ is the displacement of the bar (mass, spring). \n",
    "\n",
    "Solution is sine/cosine function. Results in a pure tone."
   ]
  },
  {
   "cell_type": "code",
   "execution_count": null,
   "metadata": {
    "slideshow": {
     "slide_type": "slide"
    }
   },
   "outputs": [],
   "source": [
    "%%html\n",
    "<iframe width=\"560\" height=\"315\" src=\"https://www.youtube.com/embed/VCERs0v1OoI?start=48\" frameborder=\"0\" allow=\"accelerometer; autoplay; encrypted-media; gyroscope; picture-in-picture\" allowfullscreen></iframe>"
   ]
  },
  {
   "cell_type": "markdown",
   "metadata": {
    "slideshow": {
     "slide_type": "slide"
    }
   },
   "source": [
    "We can plot this sine sound, using a plotting command."
   ]
  },
  {
   "cell_type": "code",
   "execution_count": null,
   "metadata": {
    "slideshow": {
     "slide_type": "slide"
    }
   },
   "outputs": [],
   "source": [
    "plot(1000*t[0:500],sine_sd[0:500]); xlabel(\"milli-seconds\")\n",
    "display(Audio(data=sine_sd, rate=Fs));"
   ]
  },
  {
   "cell_type": "markdown",
   "metadata": {
    "slideshow": {
     "slide_type": "slide"
    }
   },
   "source": [
    "## The frequency of oscillation is determined by mass, and spring\n",
    "![](images/TuningForkE.jpg)\n",
    "## Wrapping elastics around the ends increases mass, lowers frequency"
   ]
  },
  {
   "cell_type": "markdown",
   "metadata": {
    "slideshow": {
     "slide_type": "slide"
    }
   },
   "source": [
    "## For a reed instrument like a clarinet, the reed modulates the air pressure.\n",
    "![](images/Reed.png)\n",
    "## The air pressure builds, then suddenly releases as the reed opens and closes. The result is a sawtooth-shaped waveform"
   ]
  },
  {
   "cell_type": "code",
   "execution_count": null,
   "metadata": {
    "slideshow": {
     "slide_type": "slide"
    }
   },
   "outputs": [],
   "source": [
    "plot(1000*t[0:500],modf(440*t[0:500])[0]); xlabel(\"milli-seconds\")\n",
    "display(Audio(data=modf(440*t)[0], rate=Fs));"
   ]
  },
  {
   "cell_type": "markdown",
   "metadata": {
    "slideshow": {
     "slide_type": "slide"
    }
   },
   "source": [
    "## A violin creates sound from vibrating strings. The curve of the string can be complex.\n",
    "![](images/Violin.png)"
   ]
  },
  {
   "cell_type": "markdown",
   "metadata": {
    "slideshow": {
     "slide_type": "slide"
    }
   },
   "source": [
    "## The string also follows Newton's law \n",
    "## The motion is a function of two variables Y(x,t)\n",
    "## The equation of derivatives is\n",
    "$$ k \\frac{\\partial^2 Y}{\\partial x^2} = \\rho \\frac{\\partial^2 Y}{\\partial t^2}$$\n",
    "#### <center> A bend causing a force = mass density x acceleration\n",
    "\n",
    "## The solution involves a sum of sine waves."
   ]
  },
  {
   "cell_type": "code",
   "execution_count": null,
   "metadata": {
    "slideshow": {
     "slide_type": "skip"
    }
   },
   "outputs": [],
   "source": [
    "import matplotlib.animation as animation\n",
    "from IPython.display import HTML"
   ]
  },
  {
   "cell_type": "code",
   "execution_count": null,
   "metadata": {
    "slideshow": {
     "slide_type": "skip"
    }
   },
   "outputs": [],
   "source": [
    "fig, ax = subplots()\n",
    "\n",
    "x = linspace(0, pi, 100)\n",
    "line, = ax.plot(x, sin(2*x));\n",
    "\n",
    "\n",
    "def init():  # only required for blitting to give a clean slate.\n",
    "    line.set_ydata([np.nan] * len(x))\n",
    "    ylim([-1,1])\n",
    "    return line,\n",
    "\n",
    "\n",
    "def animate(i):\n",
    "    n = 1 + int(i/50)\n",
    "    line.set_ydata(sin(n*x)*sin(2*pi*n*i/25))  # update the data.\n",
    "    ylim([-1,1])\n",
    "    return line,"
   ]
  },
  {
   "cell_type": "code",
   "execution_count": null,
   "metadata": {
    "slideshow": {
     "slide_type": "skip"
    }
   },
   "outputs": [],
   "source": [
    "ani = animation.FuncAnimation(\n",
    "    fig, animate, init_func=init, interval=60, blit=True, save_count=150)"
   ]
  },
  {
   "cell_type": "code",
   "execution_count": null,
   "metadata": {
    "slideshow": {
     "slide_type": "slide"
    }
   },
   "outputs": [],
   "source": [
    "display(\"Violin string vibrates in various sinusoidal modes\")\n",
    "HTML(ani.to_html5_video())"
   ]
  },
  {
   "cell_type": "markdown",
   "metadata": {
    "slideshow": {
     "slide_type": "slide"
    }
   },
   "source": [
    "### The sound from a violin is a sum of sine waves.\n",
    "\n",
    "### The frequencies of each is a multiple of a fundamental pitch.\n",
    "\n",
    "### The relative strength of each sine wave depends on how the string is played (bowed, or plucked), and resonances of the violin body.\n",
    "\n",
    "### Results in a rich variety of sound from the violin."
   ]
  },
  {
   "cell_type": "markdown",
   "metadata": {
    "slideshow": {
     "slide_type": "slide"
    }
   },
   "source": [
    "# Making digital sounds yourself\n",
    "\n",
    "### Computer makes sounds by sending a list of numbers to the speaker (DAC)\n",
    "### Sound recordings on the computer are a list of amplitudes from a microphone (ADC)\n",
    "### Make the appropriate list of numbers, and you get various sounds\n"
   ]
  },
  {
   "cell_type": "markdown",
   "metadata": {
    "slideshow": {
     "slide_type": "slide"
    }
   },
   "source": [
    "### Key definitions\n",
    "#### Fs = sampling rate ( values/second sent to  speaker)\n",
    "   * Fs = 8000, 10000, 44100 \n",
    "   \n",
    "#### Freq = frequency (cycles per second) \n",
    "   * Freq = 20 to 20,000\n",
    "   \n",
    "#### Amp = amplitude of values sent to the speaker\n",
    "   *  -1 ≤ Amp ≤ +1"
   ]
  },
  {
   "cell_type": "markdown",
   "metadata": {
    "slideshow": {
     "slide_type": "slide"
    }
   },
   "source": [
    "## Example: Random numbers create noise\n",
    "\n",
    "noise = random.randn(Fs)"
   ]
  },
  {
   "cell_type": "code",
   "execution_count": null,
   "metadata": {
    "slideshow": {
     "slide_type": "skip"
    }
   },
   "outputs": [],
   "source": [
    "noise = random.randn(Fs)"
   ]
  },
  {
   "cell_type": "code",
   "execution_count": null,
   "metadata": {
    "slideshow": {
     "slide_type": "fragment"
    }
   },
   "outputs": [],
   "source": [
    "plot(1000*t[0:200],random_sd[0:200]);\n",
    "display(Audio(data=noise, rate=Fs))"
   ]
  },
  {
   "cell_type": "markdown",
   "metadata": {
    "slideshow": {
     "slide_type": "slide"
    }
   },
   "source": [
    "### Periodic vibrations \n",
    "\n",
    "A vibration that has a periodic vibration will sound like a tone to us. \n",
    "\n",
    "The sine function has a periodic cycle, and can be used to represent such a tone. \n",
    " ```\n",
    "Fs, Len, f1 = 44100, 3, 440  \n",
    "t = linspace(0,Len,Fs*Len)  \n",
    "tone = sin(2*pi*f1*t)\n",
    " ```"
   ]
  },
  {
   "cell_type": "code",
   "execution_count": null,
   "metadata": {
    "slideshow": {
     "slide_type": "skip"
    }
   },
   "outputs": [],
   "source": [
    "Fs, Len, f1 = 44100, 3, 440  ## sample rate, length in seconds, frequency\n",
    "t = linspace(0,Len,Fs*Len)  ## time variable\n",
    "tone = sin(2*pi*f1*t)"
   ]
  },
  {
   "cell_type": "code",
   "execution_count": null,
   "metadata": {
    "slideshow": {
     "slide_type": "slide"
    }
   },
   "outputs": [],
   "source": [
    "plot(1000*t[0:500],tone[0:500]);\n",
    "Audio(data=tone, rate=Fs)"
   ]
  },
  {
   "cell_type": "markdown",
   "metadata": {
    "slideshow": {
     "slide_type": "slide"
    }
   },
   "source": [
    "By clipping the tops of the sine wave, we get a square wave.\n",
    "\n"
   ]
  },
  {
   "cell_type": "code",
   "execution_count": null,
   "metadata": {
    "slideshow": {
     "slide_type": "fragment"
    }
   },
   "outputs": [],
   "source": [
    "square = minimum(.1, maximum(-.1,tone))\n",
    "plot(square[0:500]);\n",
    "Audio(data=square, rate=Fs)"
   ]
  },
  {
   "cell_type": "markdown",
   "metadata": {
    "slideshow": {
     "slide_type": "slide"
    }
   },
   "source": [
    "The Sine and Square waves have the same **pitch** (frequency) but different **timbres**."
   ]
  },
  {
   "cell_type": "markdown",
   "metadata": {
    "slideshow": {
     "slide_type": "slide"
    }
   },
   "source": [
    "## Beats\n",
    "Playing two tones at similar frequencies results in **beats**. This is useful for tuning instruments!"
   ]
  },
  {
   "cell_type": "code",
   "execution_count": null,
   "metadata": {
    "slideshow": {
     "slide_type": "fragment"
    }
   },
   "outputs": [],
   "source": [
    "sine2_sd = sin(2*pi*440*t) - sin(2*pi*442*t)\n",
    "Audio(data=sine2_sd, rate=Fs)"
   ]
  },
  {
   "cell_type": "markdown",
   "metadata": {
    "slideshow": {
     "slide_type": "slide"
    }
   },
   "source": [
    "We can plot to see the beats, or variations in amplitude. \n",
    "\n",
    "Note we plot the whole 3 seconds of the sound. Two beats per second. "
   ]
  },
  {
   "cell_type": "code",
   "execution_count": null,
   "metadata": {
    "slideshow": {
     "slide_type": "fragment"
    }
   },
   "outputs": [],
   "source": [
    "plot(t,sine2_sd);"
   ]
  },
  {
   "cell_type": "markdown",
   "metadata": {
    "slideshow": {
     "slide_type": "slide"
    }
   },
   "source": [
    "## A chirp\n",
    "\n",
    "Bats use chirps, tones that rapidly increase in frequency, for echolocation like sonar.\n",
    "\n",
    "We can use a chirp to explore the range of frequencies that we can hear.\n",
    "\n",
    "Humans (with very good ears) can hear from 20 Hz to 20,000 Hz. "
   ]
  },
  {
   "cell_type": "code",
   "execution_count": null,
   "metadata": {
    "slideshow": {
     "slide_type": "fragment"
    }
   },
   "outputs": [],
   "source": [
    "f = 8000/Len\n",
    "chirp_sd = sin(pi*f*t**2) ## t**2 creates the increasing freq's.\n",
    "\n",
    "Audio(data=chirp_sd, rate=Fs)"
   ]
  },
  {
   "cell_type": "markdown",
   "metadata": {
    "slideshow": {
     "slide_type": "slide"
    }
   },
   "source": [
    "## Count the pulses\n",
    "\n",
    "We test how well you hear, by testing various frequencies.\n",
    "\n"
   ]
  },
  {
   "cell_type": "code",
   "execution_count": null,
   "metadata": {
    "slideshow": {
     "slide_type": "fragment"
    }
   },
   "outputs": [],
   "source": [
    "freq = 8000\n",
    "\n",
    "n = random.randint(1,5)\n",
    "test_sd = sin(2*pi*freq*t)*sin(pi*n*t/Len)\n",
    "Audio(data=test_sd,rate=Fs,autoplay=False) # could change to True for demo"
   ]
  },
  {
   "cell_type": "markdown",
   "metadata": {
    "slideshow": {
     "slide_type": "slide"
    }
   },
   "source": [
    "## More on chirps.\n",
    "\n",
    "We can vary the parameters, to vary the sounds"
   ]
  },
  {
   "cell_type": "code",
   "execution_count": null,
   "metadata": {
    "slideshow": {
     "slide_type": "fragment"
    }
   },
   "outputs": [],
   "source": [
    "Fs = 44100\n",
    "Len = 3\n",
    "t = linspace(0,Len,Fs*Len)\n",
    "fmax = 15000\n",
    "chirp2_sd = sin(pi*(fmax/Len)*t**2) \n",
    "\n",
    "Audio(data=chirp2_sd, rate=Fs,autoplay=False) # could change to True for demo"
   ]
  },
  {
   "cell_type": "markdown",
   "metadata": {
    "slideshow": {
     "slide_type": "slide"
    }
   },
   "source": [
    "## Summary\n",
    "This notebook was a brief introduction to the physics of sound. \n",
    "\n",
    "We learned about the ear, and how insturments make sound. \n",
    "\n",
    "We learned about sine and square waves, beats, and chirps.\n",
    "\n",
    "For more information on these topics, check out the Callysto module on the mathematics of pitch."
   ]
  },
  {
   "cell_type": "markdown",
   "metadata": {
    "slideshow": {
     "slide_type": "slide"
    }
   },
   "source": [
    "![](https://github.com/callysto/callysto-sample-notebooks/blob/master/notebooks/images/Callysto_Notebook-Banners_Bottom_06.06.18.jpg?raw=true)"
   ]
  },
  {
   "cell_type": "code",
   "execution_count": null,
   "metadata": {
    "slideshow": {
     "slide_type": "slide"
    }
   },
   "outputs": [],
   "source": [
    "## Some notes on the piano, nice fractions.\n",
    "freqC = 261.62\n",
    "display(Audio(data=sin(freqC*t*2*pi), rate=Fs)), display(\"Middle C\")\n",
    "display(Audio(data=sin((5/4)*freqC*t*2*pi), rate=Fs)), display(\"E\")\n",
    "display(Audio(data=sin((6/4)*freqC*t*2*pi), rate=Fs)), display(\"G\")\n",
    "display(Audio(data=sin((7/4)*freqC*t*2*pi), rate=Fs)), display(\"B flat\")\n",
    "display(Audio(data=sin((8/4)*freqC*t*2*pi), rate=Fs)), display(\"High C\");"
   ]
  },
  {
   "cell_type": "code",
   "execution_count": null,
   "metadata": {},
   "outputs": [],
   "source": []
  }
 ],
 "metadata": {
  "celltoolbar": "Slideshow",
  "kernelspec": {
   "display_name": "Python 3",
   "language": "python",
   "name": "python3"
  },
  "language_info": {
   "codemirror_mode": {
    "name": "ipython",
    "version": 3
   },
   "file_extension": ".py",
   "mimetype": "text/x-python",
   "name": "python",
   "nbconvert_exporter": "python",
   "pygments_lexer": "ipython3",
   "version": "3.8.2"
  },
  "rise": {
   "autolaunch": false,
   "backimage": "Bgnd0.jpg"
  }
 },
 "nbformat": 4,
 "nbformat_minor": 4
}
